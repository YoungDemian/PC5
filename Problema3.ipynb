{
 "cells": [
  {
   "cell_type": "markdown",
   "metadata": {},
   "source": [
    "# Problema 3 - Análisis Datos Youtube - Archivo .py"
   ]
  },
  {
   "cell_type": "markdown",
   "metadata": {},
   "source": [
    "1. Descargar un archivo .zip mediante código del siguiente url (https://netsg.cs.sfu.ca/youtubedata/) (recomiendo descargar el archivo 0333.zip que es menos pesado)\n",
    "2. Descomprimir los datos en una carpeta que genere y leer mediante pandas alguno de los archivos en esta. (observar que no es necesario en un primer momento leer los datos con un nombre de columna especifico)\n",
    "\n",
    "    - Los nombres de columna pueden ser puestos posteriormente\n",
    "    - El separador de columna es <code>\\t</code>\n",
    "    - Se colocan los nombres de columnas y descripción asociada para su intermetación. Ejemplo columna1 sera VideoID ... \n",
    "    \n",
    "\n",
    "3. Procesar los datos según: \n",
    "    - Nos quedaremos con las columnas: VideoID, edad, catgoria, views, rate.\n",
    "    - Realizar un filtrado básico a los datos. Ejemplo solo seleccionar cierto grupo de categorias\n",
    "\n",
    "4. Procesamiento en Mongo Db\n",
    "    - Exportar los datos a mongo DB \n",
    "    - Crear 2 graficos con los datos \n",
    "    - Compartir link donde encontrar los datos \n",
    "\n",
    "\n"
   ]
  },
  {
   "cell_type": "markdown",
   "metadata": {},
   "source": [
    "| Nombre de la Columna | Descripción                                                                                                 |\n",
    "|----------------------|-------------------------------------------------------------------------------------------------------------|\n",
    "| `video ID`           | Una cadena de 11 dígitos, la cual es única                                                                |\n",
    "| `uploader`           | Una cadena con el nombre de usuario del cargador del video                                                  |\n",
    "| `age`                | Un número entero que representa los días transcurridos desde la fecha en que se subió el video hasta el 15 de febrero de 2007 (fecha de creación de YouTube) |\n",
    "| `category`           | Una cadena que indica la categoría del video elegida por el cargador                                       |\n",
    "| `length`             | Un número entero que representa la duración del video en minutos                                            |\n",
    "| `views`              | Un número entero que representa el número de visualizaciones del video                                      |\n",
    "| `rate`               | Un número flotante que indica la calificación del video                                                      |\n",
    "| `ratings`            | Un número entero que representa el número de calificaciones recibidas por el video                          |\n",
    "| `comments`           | Un número entero que indica el número de comentarios en el video                                            |\n",
    "| `related IDs`        | Hasta 20 cadenas de texto con los IDs de videos relacionados                                                |\n"
   ]
  },
  {
   "cell_type": "code",
   "execution_count": null,
   "metadata": {},
   "outputs": [],
   "source": [
    "import requests\n",
    "import zipfile\n",
    "import pandas as pd\n",
    "import pymongo\n",
    "import matplotlib.pyplot as plt\n",
    "url = \"https://netsg.cs.sfu.ca/youtubedata/0333.zip\"\n",
    "response = requests.get(url, stream=True)\n",
    "\n",
    "with open(\"0333.zip\", 'wb') as out_file:\n",
    "    for chunk in response.iter_content(chunk_size=1024):\n",
    "        if chunk:\n",
    "            out_file.write(chunk)\n",
    "with zipfile.ZipFile(\"0333.zip\", 'r') as zip_ref:\n",
    "    zip_ref.extractall(\"youtube_data\")\n",
    "df = pd.read_csv(\"youtube_data/data.csv\", sep=\",\")\n",
    "df = df[['VideoID', 'age', 'category', 'views', 'rate']]\n",
    "df = df[df['category'] == 'Music']\n",
    "client = pymongo.MongoClient(\"mongodb://localhost:27017/\")\n",
    "db = client[\"youtube_data\"]\n",
    "collection = db[\"videos\"]\n",
    "collection.insert_many(df.to_dict('records'))\n",
    "plt.hist(df['views'], bins=20)\n",
    "plt.xlabel('Número de vistas')\n",
    "plt.ylabel('Frecuencia')\n",
    "plt.title('Distribución del número de vistas de videos musicales')\n",
    "plt.show()\n",
    "\n",
    "# Exportar datos a un archivo CSV (opcional)\n",
    "df.to_csv('videos_musicales.csv', index=False)\n",
    "print(\"Datos exportados a videos_musicales.csv\")"
   ]
  }
 ],
 "metadata": {
  "kernelspec": {
   "display_name": "Python 3",
   "language": "python",
   "name": "python3"
  },
  "language_info": {
   "codemirror_mode": {
    "name": "ipython",
    "version": 3
   },
   "file_extension": ".py",
   "mimetype": "text/x-python",
   "name": "python",
   "nbconvert_exporter": "python",
   "pygments_lexer": "ipython3",
   "version": "3.12.1"
  }
 },
 "nbformat": 4,
 "nbformat_minor": 2
}
